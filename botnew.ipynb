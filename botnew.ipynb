{
  "nbformat": 4,
  "nbformat_minor": 0,
  "metadata": {
    "colab": {
      "name": "botnew.ipynb",
      "provenance": [],
      "collapsed_sections": []
    },
    "kernelspec": {
      "name": "python3",
      "display_name": "Python 3"
    },
    "language_info": {
      "name": "python"
    }
  },
  "cells": [
    {
      "cell_type": "code",
      "execution_count": null,
      "metadata": {
        "id": "XPZYcQoY5GaK"
      },
      "outputs": [],
      "source": [
        "!pip install python-binance\n",
        "import pandas as pd\n",
        "import sqlalchemy\n",
        "from binance.client import Client\n",
        "from binance import BinanceSocketManager"
      ]
    },
    {
      "cell_type": "code",
      "source": [
        "api_key = \"9ZC22lmAGrIh51mHVUjnLnNvWXE60zsKuI8YqitHg3ucTzTUpq6bolz8iIESNAlL\"\n",
        "api_secret = \"C18C1xRmBaXmjE7hbEC703gcnRDvSkK27AjBivt6PJXoVEoxv6QaH8DXPwcXGdLv\""
      ],
      "metadata": {
        "id": "XJJiCx5u6_Qq"
      },
      "execution_count": 15,
      "outputs": []
    },
    {
      "cell_type": "code",
      "source": [
        "client = Client(api_key,api_secret)"
      ],
      "metadata": {
        "id": "UN7hXbpN7ZYk"
      },
      "execution_count": 16,
      "outputs": []
    },
    {
      "cell_type": "code",
      "source": [
        "client.get_account()"
      ],
      "metadata": {
        "id": "hO5YnUH77l3q"
      },
      "execution_count": null,
      "outputs": []
    },
    {
      "cell_type": "code",
      "source": [
        "client.get_historical_klines('BTCUSDT', '1m', '30 m ago UTC')"
      ],
      "metadata": {
        "id": "LlPtZ7AI81vB"
      },
      "execution_count": null,
      "outputs": []
    },
    {
      "cell_type": "code",
      "source": [
        "pd.DataFrame(client.get_historical_klines('BTCUSDT', '1m', '30 min ago UTC'))"
      ],
      "metadata": {
        "id": "a7gTaIrN9KTf"
      },
      "execution_count": null,
      "outputs": []
    },
    {
      "cell_type": "code",
      "source": [
        "def getminutedata(symbol, interval, lookback):\n",
        "  frame = pd.DataFrame(client.get_historical_klines(symbol, interval, lookback+' min ago UTC'))\n",
        "  frame = frame.iloc[:,:6]\n",
        "  frame.columns = ['Time', 'Open', 'High', 'Low', 'Close', 'Volume']\n",
        "  frame = frame.set_index('Time')\n",
        "  frame.index = pd.to_datetime(frame.index, unit = 'ms')\n",
        "  frame = frame.astype(float)\n",
        "  return frame"
      ],
      "metadata": {
        "id": "BNDMKPnl9YtD"
      },
      "execution_count": 27,
      "outputs": []
    },
    {
      "cell_type": "code",
      "source": [
        "test=getminutedata('BTCUSDT', '1m', '30')"
      ],
      "metadata": {
        "id": "7XQ0r4xSBzRn"
      },
      "execution_count": 28,
      "outputs": []
    },
    {
      "cell_type": "code",
      "source": [
        "test.Open.plot()"
      ],
      "metadata": {
        "id": "_WWlMVFwCFl_"
      },
      "execution_count": null,
      "outputs": []
    },
    {
      "cell_type": "code",
      "source": [
        "#buy if asset fell by more then 0.2% within the last 30 min\n",
        "#sell if asset rise by more then 0.15% or falls further by 0.15%"
      ],
      "metadata": {
        "id": "zN0oxfqLCjCV"
      },
      "execution_count": null,
      "outputs": []
    },
    {
      "cell_type": "code",
      "source": [
        "def strategytest(symbol, qty, entried=False):\n",
        "  df = getminutedata(symbol, '1m', '30m')\n",
        "  cumulret = (df.Open.pct_change()+1).cumprod() - 1\n",
        "  if not entried:\n",
        "    if cumulret[-1] < -0.001:\n",
        "      order = client.create_order(symbol=symbol, side='BUY', type='MARKET', quantity=qty)\n",
        "      print(order)\n",
        "      entried = True\n",
        "    else:\n",
        "      print('No Trade has been executed')\n",
        "  if entried:\n",
        "    while True:\n",
        "      df = getminutedata(symbol, '1m', '30m')\n",
        "      sincebuy = df.loc[df.index > pd.to_datetime(order['transactTime'], unit='ms')]  \n",
        "      if len(sincebuy)>0:\n",
        "        sincebuyret =  (sincebuy.Open.pct_change()+1).cumprod() - 1\n",
        "        if sincebuyret[-1] > 0.0015 or sincebuyret[-1]< -0.0015:\n",
        "          order = client.create_order(symbol=symbol, side='SELL', type='MARKET', quantity=qty)  \n",
        "          print(order)\n",
        "          break\n",
        "\n"
      ],
      "metadata": {
        "id": "WFETrEtQC2gE"
      },
      "execution_count": 43,
      "outputs": []
    },
    {
      "cell_type": "code",
      "source": [
        "strategytest('BTCUSDT', 0.002)"
      ],
      "metadata": {
        "id": "z6n8EbhsF2_w"
      },
      "execution_count": null,
      "outputs": []
    }
  ]
}