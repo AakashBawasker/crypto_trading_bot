{
  "nbformat": 4,
  "nbformat_minor": 0,
  "metadata": {
    "colab": {
      "name": "cryppro2(strategy).ipynb",
      "provenance": [],
      "collapsed_sections": []
    },
    "kernelspec": {
      "name": "python3",
      "display_name": "Python 3"
    },
    "language_info": {
      "name": "python"
    }
  },
  "cells": [
    {
      "cell_type": "code",
      "execution_count": null,
      "metadata": {
        "id": "-FS4SH3v7tcs"
      },
      "outputs": [],
      "source": [
        "!pip install python-binance\n",
        "import pandas as pd\n",
        "import sqlalchemy\n",
        "from binance.client import Client\n",
        "from binance import BinanceSocketManager"
      ]
    },
    {
      "cell_type": "code",
      "source": [
        "api_key = \"abc\"\n",
        "api_secret = \"xyz\""
      ],
      "metadata": {
        "id": "sOk3kb2y85rG"
      },
      "execution_count": null,
      "outputs": []
    },
    {
      "cell_type": "code",
      "source": [
        "client = Client(api_key, api_secret)"
      ],
      "metadata": {
        "id": "v-vmMpt28mKo"
      },
      "execution_count": null,
      "outputs": []
    },
    {
      "cell_type": "code",
      "source": [
        "engine = sqlalchemy.create_engine('sqlite:///BTCUSDTstream.db')"
      ],
      "metadata": {
        "id": "DSv49hTQ8mS7"
      },
      "execution_count": null,
      "outputs": []
    },
    {
      "cell_type": "code",
      "source": [
        "df = pd.read_sql('BTCUSDT',engine)"
      ],
      "metadata": {
        "id": "qNWZOSXA8mV8"
      },
      "execution_count": null,
      "outputs": []
    },
    {
      "cell_type": "code",
      "source": [
        "df.Price.plot()"
      ],
      "metadata": {
        "id": "Enrru6Un8mY4"
      },
      "execution_count": null,
      "outputs": []
    },
    {
      "cell_type": "code",
      "source": [
        "#trend following\n",
        "#if the crypto was rising by x% -> Buy\n",
        "#exit when profit is above 0.15% or loss is crossing -0.15%"
      ],
      "metadata": {
        "id": "AZ3Ndd4m8mb3"
      },
      "execution_count": null,
      "outputs": []
    },
    {
      "cell_type": "code",
      "source": [
        "def strategy(entry, lookback, qty, open_position=False):\n",
        "    while True:\n",
        "          df = pd.read_sql('BTCUSDT',engine)\n",
        "          lookbackperiod = df.iloc[-lookback:]\n",
        "          cumret = (lookbackperiod.Price.pct_change() +1).cumprod() - 1\n",
        "          if not open_position:\n",
        "             if cumret[cumret.last_valid_index()] > entry:\n",
        "                order = client.create_order(symbol=pair,\n",
        "                                           side='BUY',\n",
        "                                           type='MARKET',\n",
        "                                           quantity=qty)\n",
        "                print(order)\n",
        "                open_position = True\n",
        "                break\n",
        "    if open_position:\n",
        "        while True:\n",
        "            df = pd.read_sql('BTCUSDT', engine)\n",
        "            sincebuy = df.loc[df.Time > \n",
        "                              pd.to_datetime(order['transactTime'],\n",
        "                                            unit='ms')]\n",
        "            if len(sincebuy) > 1:\n",
        "                sincebuyret = (sincebuy.Price.pct_change() +1).cumprod() - 1\n",
        "                last_entry = sincebuyret[sincebuyret.last_valid_index()]\n",
        "                if last_entry > 0.0015 or last_entry < -0.0015:\n",
        "                    order = client.create_order(symbol=pair,\n",
        "                                           side='SELL',\n",
        "                                           type='MARKET',\n",
        "                                           quantity=qty)\n",
        "                    print(order)\n",
        "                    break      "
      ],
      "metadata": {
        "id": "d7oXCbyu8mfQ"
      },
      "execution_count": null,
      "outputs": []
    },
    {
      "cell_type": "code",
      "source": [
        ""
      ],
      "metadata": {
        "id": "4xN8FIzg-aVa"
      },
      "execution_count": null,
      "outputs": []
    },
    {
      "cell_type": "code",
      "source": [
        ""
      ],
      "metadata": {
        "id": "HzKYUQPH-aYh"
      },
      "execution_count": null,
      "outputs": []
    },
    {
      "cell_type": "code",
      "source": [
        ""
      ],
      "metadata": {
        "id": "rDN4nR_Z-acC"
      },
      "execution_count": null,
      "outputs": []
    }
  ]
}