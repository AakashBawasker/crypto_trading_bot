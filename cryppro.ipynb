{
  "nbformat": 4,
  "nbformat_minor": 0,
  "metadata": {
    "colab": {
      "name": "cryppro.ipynb",
      "provenance": [],
      "collapsed_sections": []
    },
    "kernelspec": {
      "name": "python3",
      "display_name": "Python 3"
    },
    "language_info": {
      "name": "python"
    }
  },
  "cells": [
    {
      "cell_type": "code",
      "execution_count": null,
      "metadata": {
        "id": "ztvPl7-Gqade"
      },
      "outputs": [],
      "source": [
        "!pip install python-binance\n",
        "import pandas as pd\n",
        "import sqlalchemy\n",
        "from binance.client import Client\n",
        "from binance import BinanceSocketManager\n"
      ]
    },
    {
      "cell_type": "code",
      "source": [
        "import asyncio\n",
        "\n"
      ],
      "metadata": {
        "id": "e0mZIJuwcA24"
      },
      "execution_count": null,
      "outputs": []
    },
    {
      "cell_type": "code",
      "source": [
        "api_key = \"abc\"\n",
        "api_secret = \"xyz\""
      ],
      "metadata": {
        "id": "6Y_uZXk9e_wP"
      },
      "execution_count": null,
      "outputs": []
    },
    {
      "cell_type": "code",
      "source": [
        "client = Client(api_key, api_secret)"
      ],
      "metadata": {
        "id": "CehIYAhHfbQc"
      },
      "execution_count": null,
      "outputs": []
    },
    {
      "cell_type": "code",
      "source": [
        "bsm = BinanceSocketManager(client)"
      ],
      "metadata": {
        "id": "ckKSnr0NfnTO"
      },
      "execution_count": null,
      "outputs": []
    },
    {
      "cell_type": "code",
      "source": [
        "socket = bsm.trade_socket('BTCUSDT')"
      ],
      "metadata": {
        "id": "ZPlFkxMIhlOb"
      },
      "execution_count": null,
      "outputs": []
    },
    {
      "cell_type": "code",
      "source": [
        "async def main():\n",
        "          while True:\n",
        "                await socket.__aenter__()\n",
        "                msg = await socket.recv()\n",
        "                frame = createframe(msg)\n",
        "                frame.to_sql('BTCUSDT', engine, if_exists='appened', index=False)\n",
        "                print(frame)"
      ],
      "metadata": {
        "id": "mTb1tzFOjL5r"
      },
      "execution_count": null,
      "outputs": []
    },
    {
      "cell_type": "code",
      "source": [
        "def createframe(msg):\n",
        "    df = pd.DataFrame([msg])\n",
        "    df = df.loc[:,['s','E','p']]\n",
        "    df.columns = ['symbol','Time','Price']\n",
        "    df.Price = df.Price.astype(float)\n",
        "    df.Time = pd.to_datetime(df.Time, unit='ms')\n",
        "    return df\n",
        "    "
      ],
      "metadata": {
        "id": "YjeSL9inmIBE"
      },
      "execution_count": null,
      "outputs": []
    },
    {
      "cell_type": "code",
      "source": [
        "createframe(msg)"
      ],
      "metadata": {
        "id": "k1yRLpY5a1dq"
      },
      "execution_count": null,
      "outputs": []
    },
    {
      "cell_type": "code",
      "source": [
        "engine = sqlalchemy.create_engine('sqlite:///BTCUSDTstream.db')"
      ],
      "metadata": {
        "id": "ArEdwUd36S9S"
      },
      "execution_count": null,
      "outputs": []
    }
  ]
}